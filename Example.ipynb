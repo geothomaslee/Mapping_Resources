{
 "cells": [
  {
   "cell_type": "code",
   "execution_count": null,
   "id": "ead09a6d-c2aa-4de6-ae94-6bd8ef979567",
   "metadata": {},
   "outputs": [],
   "source": [
    "import scripts.mapping_stations as ms\n",
    "import scripts.general_mapping as gm\n",
    "import scripts.colormap_utils as cu\n",
    "import scripts.mapping_events as me\n",
    "\n",
    "# Create colormap - set max_elev and max_depth\n",
    "cmap = cu.create_combined_color_map('usgs','colombia',max_elev=6200,max_depth=-8000)\n",
    "\n",
    "fig = me.plot_events(starttime='2000-01-01',\n",
    "                     endtime='2025-03-28', \n",
    "                     minlon=-171.23, # These four parameters are the area to search\n",
    "                     maxlon=-141.78,\n",
    "                     minlat=55.46,\n",
    "                     maxlat=62.71,\n",
    "                     minmag=5, # Minimum magnitude\n",
    "                     lin_scale=0.002, # See scripts.mapping_events.plot_events() for how to use lin_scale and exp_scale. exp_scale exaggerates difference between magnitudes, lin_scale scales them all equally\n",
    "                     exp_scale = 3, # Parameters below this point are passed to gm.plot_basemap, so see that map if you want to change anything\n",
    "                     region=[-171.23,-141.78,55.46,62.71], # Mapping region - used in plot_basemap, can be same as seismicity search params\n",
    "                     cmap=cmap,\n",
    "                     projection='M-122/47/12c', # Set the first two numbers as the centerpoint of your map area\n",
    "                     resolution='01m', # See pygmt.datasets.load_earth_relief for more details on \n",
    "                     margin=0.05, # Margin percentage around study area. Ex. 0.05 adds a 5% margin to the region specified by region\n",
    "                     figure_name='Southern Alaska Seismicity M>5, 2000-2025',\n",
    "                     bathymetry=True)\n",
    "fig = gm.plot_major_cities(reg_fig,minpopulation=50000, # Adds major cities, play around with population if you get two nearby \n",
    "                               close_threshhold=0.01,offset=0.06,\n",
    "                               dotsize=0.25,hor_offset_multiplier=3.5)\n",
    "fig.show()\n",
    "gm.save_fig(reg_fig,'SouthernAlaskaOverview',dpi=960)"
   ]
  }
 ],
 "metadata": {
  "kernelspec": {
   "display_name": "Python 3 (ipykernel)",
   "language": "python",
   "name": "python3"
  },
  "language_info": {
   "codemirror_mode": {
    "name": "ipython",
    "version": 3
   },
   "file_extension": ".py",
   "mimetype": "text/x-python",
   "name": "python",
   "nbconvert_exporter": "python",
   "pygments_lexer": "ipython3",
   "version": "3.12.9"
  }
 },
 "nbformat": 4,
 "nbformat_minor": 5
}
